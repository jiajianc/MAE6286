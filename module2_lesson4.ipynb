{
 "cells": [
  {
   "cell_type": "code",
   "execution_count": 32,
   "metadata": {},
   "outputs": [],
   "source": [
    "import numpy\n",
    "from matplotlib import pyplot\n",
    "import sympy\n",
    "%matplotlib inline"
   ]
  },
  {
   "cell_type": "code",
   "execution_count": 33,
   "metadata": {},
   "outputs": [],
   "source": [
    "sympy.init_printing()"
   ]
  },
  {
   "cell_type": "code",
   "execution_count": 34,
   "metadata": {},
   "outputs": [],
   "source": [
    "x = sympy.symbols('x')"
   ]
  },
  {
   "cell_type": "code",
   "execution_count": 35,
   "metadata": {},
   "outputs": [
    {
     "data": {
      "image/png": "[encoded data removed]",
      "text/latex": [
       "$$x$$"
      ],
      "text/plain": [
       "x"
      ]
     },
     "execution_count": 35,
     "metadata": {},
     "output_type": "execute_result"
    }
   ],
   "source": [
    "x"
   ]
  },
  {
   "cell_type": "code",
   "execution_count": 36,
   "metadata": {},
   "outputs": [
    {
     "data": {
      "image/png": "[encoded data removed]",
      "text/latex": [
       "$$5 x$$"
      ],
      "text/plain": [
       "5⋅x"
      ]
     },
     "execution_count": 36,
     "metadata": {},
     "output_type": "execute_result"
    }
   ],
   "source": [
    "5 * x"
   ]
  },
  {
   "cell_type": "code",
   "execution_count": 37,
   "metadata": {},
   "outputs": [],
   "source": [
    "x, nu, t = sympy.symbols('x nu t')  "
   ]
  },
  {
   "cell_type": "code",
   "execution_count": 38,
   "metadata": {},
   "outputs": [
    {
     "data": {
      "image/png": "[encoded data removed]",
      "text/latex": [
       "$$\\nu$$"
      ],
      "text/plain": [
       "ν"
      ]
     },
     "execution_count": 38,
     "metadata": {},
     "output_type": "execute_result"
    }
   ],
   "source": [
    "nu"
   ]
  },
  {
   "cell_type": "code",
   "execution_count": 39,
   "metadata": {},
   "outputs": [],
   "source": [
    "phi = (sympy.exp(-(x - 4 * t)**2 / (4 * nu * (t + 1))) +\n",
    "       sympy.exp(-(x - 4 * t - 2 * numpy.pi)**2 / (4 * nu * (t + 1))))"
   ]
  },
  {
   "cell_type": "code",
   "execution_count": 40,
   "metadata": {},
   "outputs": [
    {
     "data": {
      "image/png": "[encoded data removed]",
      "text/latex": [
       "$$e^{- \\frac{\\left(- 4 t + x - 6.28318530717959\\right)^{2}}{4 \\nu \\left(t + 1\\right)}} + e^{- \\frac{\\left(- 4 t + x\\right)^{2}}{4 \\nu \\left(t + 1\\right)}}$$"
      ],
      "text/plain": [
       "                               2                2 \n",
       " -(-4⋅t + x - 6.28318530717959)      -(-4⋅t + x)  \n",
       " ────────────────────────────────    ─────────────\n",
       "           4⋅ν⋅(t + 1)                4⋅ν⋅(t + 1) \n",
       "ℯ                                 + ℯ             "
      ]
     },
     "execution_count": 40,
     "metadata": {},
     "output_type": "execute_result"
    }
   ],
   "source": [
    "phi"
   ]
  },
  {
   "cell_type": "code",
   "execution_count": 41,
   "metadata": {},
   "outputs": [
    {
     "data": {
      "image/png": "[encoded data removed]",
      "text/latex": [
       "$$- \\frac{\\left(- 8 t + 2 x\\right) e^{- \\frac{\\left(- 4 t + x\\right)^{2}}{4 \\nu \\left(t + 1\\right)}}}{4 \\nu \\left(t + 1\\right)} - \\frac{\\left(- 8 t + 2 x - 12.5663706143592\\right) e^{- \\frac{\\left(- 4 t + x - 6.28318530717959\\right)^{2}}{4 \\nu \\left(t + 1\\right)}}}{4 \\nu \\left(t + 1\\right)}$$"
      ],
      "text/plain": [
       "                           2                                                  \n",
       "                -(-4⋅t + x)                                      -(-4⋅t + x - \n",
       "                ─────────────                                    ─────────────\n",
       "                 4⋅ν⋅(t + 1)                                               4⋅ν\n",
       "  (-8⋅t + 2⋅x)⋅ℯ                (-8⋅t + 2⋅x - 12.5663706143592)⋅ℯ             \n",
       "- ─────────────────────────── - ──────────────────────────────────────────────\n",
       "          4⋅ν⋅(t + 1)                                      4⋅ν⋅(t + 1)        \n",
       "\n",
       "                 2 \n",
       "6.28318530717959)  \n",
       "───────────────────\n",
       "⋅(t + 1)           \n",
       "                   \n",
       "───────────────────\n",
       "                   "
      ]
     },
     "execution_count": 41,
     "metadata": {},
     "output_type": "execute_result"
    }
   ],
   "source": [
    "phiprime=phi.diff(x)\n",
    "phiprime"
   ]
  },
  {
   "cell_type": "code",
   "execution_count": 42,
   "metadata": {},
   "outputs": [
    {
     "data": {
      "image/png": "[encoded data removed]",
      "text/latex": [
       "$$- \\frac{2 \\nu \\left(- \\frac{\\left(- 8 t + 2 x\\right) e^{- \\frac{\\left(- 4 t + x\\right)^{2}}{4 \\nu \\left(t + 1\\right)}}}{4 \\nu \\left(t + 1\\right)} - \\frac{\\left(- 8 t + 2 x - 12.5663706143592\\right) e^{- \\frac{\\left(- 4 t + x - 6.28318530717959\\right)^{2}}{4 \\nu \\left(t + 1\\right)}}}{4 \\nu \\left(t + 1\\right)}\\right)}{e^{- \\frac{\\left(- 4 t + x - 6.28318530717959\\right)^{2}}{4 \\nu \\left(t + 1\\right)}} + e^{- \\frac{\\left(- 4 t + x\\right)^{2}}{4 \\nu \\left(t + 1\\right)}}} + 4$$"
      ],
      "text/plain": [
       "      ⎛                           2                                           \n",
       "      ⎜                -(-4⋅t + x)                                      -(-4⋅t\n",
       "      ⎜                ─────────────                                    ──────\n",
       "      ⎜                 4⋅ν⋅(t + 1)                                           \n",
       "      ⎜  (-8⋅t + 2⋅x)⋅ℯ                (-8⋅t + 2⋅x - 12.5663706143592)⋅ℯ      \n",
       "  2⋅ν⋅⎜- ─────────────────────────── - ───────────────────────────────────────\n",
       "      ⎝          4⋅ν⋅(t + 1)                                      4⋅ν⋅(t + 1) \n",
       "- ────────────────────────────────────────────────────────────────────────────\n",
       "                                                            2                2\n",
       "                              -(-4⋅t + x - 6.28318530717959)      -(-4⋅t + x) \n",
       "                              ────────────────────────────────    ────────────\n",
       "                                        4⋅ν⋅(t + 1)                4⋅ν⋅(t + 1)\n",
       "                             ℯ                                 + ℯ            \n",
       "\n",
       "                        2 ⎞    \n",
       " + x - 6.28318530717959)  ⎟    \n",
       "──────────────────────────⎟    \n",
       "    4⋅ν⋅(t + 1)           ⎟    \n",
       "                          ⎟    \n",
       "──────────────────────────⎟    \n",
       "                          ⎠    \n",
       "─────────────────────────── + 4\n",
       "                               \n",
       "                               \n",
       "─                              \n",
       "                               \n",
       "                               "
      ]
     },
     "execution_count": 42,
     "metadata": {},
     "output_type": "execute_result"
    }
   ],
   "source": [
    "u = -2 * nu *phiprime/phi +4\n",
    "u"
   ]
  },
  {
   "cell_type": "code",
   "execution_count": 43,
   "metadata": {},
   "outputs": [],
   "source": [
    "from sympy.utilities.lambdify import lambdify"
   ]
  },
  {
   "cell_type": "code",
   "execution_count": 44,
   "metadata": {},
   "outputs": [],
   "source": [
    "u_lamb = lambdify((t, x, nu), u)\n"
   ]
  },
  {
   "cell_type": "code",
   "execution_count": 45,
   "metadata": {},
   "outputs": [
    {
     "data": {
      "image/png": "[encoded data removed]",
      "text/latex": [
       "$$3.4917066420644494$$"
      ],
      "text/plain": [
       "3.4917066420644494"
      ]
     },
     "execution_count": 45,
     "metadata": {},
     "output_type": "execute_result"
    }
   ],
   "source": [
    "u_lamb(1, 4, 3)"
   ]
  },
  {
   "cell_type": "code",
   "execution_count": 55,
   "metadata": {},
   "outputs": [],
   "source": [
    "nx = 101\n",
    "L = 2* numpy.pi\n",
    "dx = L/ (nx-1)\n",
    "nu = 0.07\n",
    "sigma = 0.1\n",
    "dt = sigma * dx**2 / nu \n",
    "nt = 100"
   ]
  },
  {
   "cell_type": "code",
   "execution_count": 56,
   "metadata": {},
   "outputs": [],
   "source": [
    "x = numpy.linspace(0.0, L, num = nx)"
   ]
  },
  {
   "cell_type": "code",
   "execution_count": 60,
   "metadata": {},
   "outputs": [
    {
     "name": "stdout",
     "output_type": "stream",
     "text": [
      "[       nan 4.07       4.07       4.07       4.07       4.07\n",
      " 4.07       4.07       4.06999997 4.06999976 4.06999866 4.06999457\n",
      " 4.06998262 4.06995349 4.06989186 4.06977531 4.06957393 4.06925068\n",
      " 4.06876233 4.06806098 4.06709571 4.0658144  4.06416537 4.06209893\n",
      " 4.05956861 4.05653221 4.05295245 4.04879753 4.04404134 4.03866351\n",
      " 4.0326494  4.02598979 4.01868067 4.01072278 4.0021213  3.99288532\n",
      " 3.98302744 3.97256335 3.96151133 3.9498919  3.9377274  3.92504164\n",
      " 3.91185957 3.89820695 3.88411013 3.86959575 3.85469057 3.83942123\n",
      " 3.82381416 3.80789536 3.79169034 3.775224   3.75852053 3.74160338\n",
      " 3.72449519 3.70721773 3.68979192 3.67223778 3.65457442 3.63682005\n",
      " 3.61899198 3.60110663 3.58317954 3.56522539 3.54725804 3.52929051\n",
      " 3.51133505 3.49340314 3.47550553 3.45765226 3.43985269 3.42211553\n",
      " 3.40444889 3.38686026 3.3693566  3.35194432 3.3346293  3.31741698\n",
      " 3.30031232 3.28331984 3.26644369 3.24968759 3.23305493 3.21654876\n",
      " 3.20017177 3.1839264  3.16781478 3.15183877 3.13599999 3.12029983\n",
      " 3.10473945 3.08931983 3.07404173 3.05890574 3.04391231 3.02906171\n",
      " 3.01435406 2.99978938 2.98536754 2.97108831 2.95695134]\n"
     ]
    },
    {
     "data": {
      "image/png": "[encoded data removed]",
      "text/plain": [
       "<Figure size 432x288 with 1 Axes>"
      ]
     },
     "metadata": {
      "needs_background": "light"
     },
     "output_type": "display_data"
    }
   ],
   "source": [
    "u0 = numpy.empty(nx)\n",
    "for i in range(nx):\n",
    "    u0[i] = u_lamb(0, nu, x[i])\n",
    "print(u0)\n",
    "pyplot.plot(x, u0)\n",
    "pyplot.xlim(0.0, L)\n",
    "pyplot.ylim(0.0, 10.0);"
   ]
  },
  {
   "cell_type": "code",
   "execution_count": null,
   "metadata": {},
   "outputs": [],
   "source": [
    "u_hist = [u0.copy]\n",
    "u = u0.copy\n",
    "for n in range(nt):\n",
    "    u[1:-1] = (un[1:-1] -\n",
    "               un[1:-1] * dt / dx * (un[1:-1] - un[:-2]) +\n",
    "               nu * dt / dx**2 * (un[2:] - 2 * un[1:-1] + un[:-2]))\n",
    "    u[0] = (un[0] -\n",
    "            un[0] * dt / dx * (un[0] - un[-1]) +\n",
    "            nu * dt / dx**2 * (un[1] - 2 * un[0] + un[-1]))\n",
    "    u[-1] = u[0]\n",
    "    u_hist.append[u.copy()]"
   ]
  }
 ],
 "metadata": {
  "kernelspec": {
   "display_name": "Python 3",
   "language": "python",
   "name": "python3"
  },
  "language_info": {
   "codemirror_mode": {
    "name": "ipython",
    "version": 3
   },
   "file_extension": ".py",
   "mimetype": "text/x-python",
   "name": "python",
   "nbconvert_exporter": "python",
   "pygments_lexer": "ipython3",
   "version": "3.7.3"
  }
 },
 "nbformat": 4,
 "nbformat_minor": 2
}
